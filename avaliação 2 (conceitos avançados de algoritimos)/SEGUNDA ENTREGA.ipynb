{
 "cells": [
  {
   "cell_type": "code",
   "execution_count": 7,
   "id": "331b2f59",
   "metadata": {},
   "outputs": [
    {
     "name": "stdout",
     "output_type": "stream",
     "text": [
      "[-2, 1, 2, 3, 4, 5]\n",
      "[-2, -1, 1, 2, 3, 4, 5]\n",
      "[-2, -1, 1, 2, 3, 4, 5, 22]\n",
      "[-2, -1, 1, 2, 3, 4, 5, 22, 54]\n",
      "[-2, -1, 1, 2, 3, 4, 5, 9, 22, 54]\n",
      "[-2, -1, 1, 2, 3, 4, 5, 9, 22, 34, 54]\n",
      "[-7, -2, -1, 1, 2, 3, 4, 5, 9, 22, 34, 54]\n",
      "[-7, -2, -1, 1, 2, 3, 4, 5, 6, 9, 22, 34, 54]\n",
      "[-7, -2, -1, 1, 2, 3, 4, 5, 6, 8, 9, 22, 34, 54]\n",
      "[-7, -2, -1, 1, 2, 3, 4, 5, 6, 8, 9, 22, 34, 54, 109]\n",
      "[-7, -2, -1, 0, 1, 2, 3, 4, 5, 6, 8, 9, 22, 34, 54, 109]\n",
      "[-7, -2, -1, 0, 1, 2, 3, 4, 5, 6, 8, 9, 22, 34, 54, 109]\n"
     ]
    }
   ],
   "source": [
    "#QUESTÃO 1\n",
    "\n",
    "lista1 = [1,2,3,4,5]\n",
    "lista2 = [-2,-1,22, 54, 9, 34, -7,34, 6, 8, 109,0]\n",
    "\n",
    "def insereOrdenado(lista1,lista2):\n",
    "  for i in range(len(lista2)):    \n",
    "    for j in range(len(lista1)):\n",
    "      if lista2[i] not in lista1:\n",
    "        if lista1[j] > lista2[i]:\n",
    "          lista1.insert(j, lista2[i])\n",
    "          print(lista1)\n",
    "        \n",
    "          break\n",
    "        if lista1[-1] < lista2[i] and j <= len(lista2):\n",
    "          lista1.append(lista2[i])\n",
    "          print(lista1)\n",
    "  return lista1\n",
    "\n",
    "\n",
    "\n",
    "print(insereOrdenado(lista1, lista2))"
   ]
  },
  {
   "cell_type": "code",
   "execution_count": 8,
   "id": "efecf367",
   "metadata": {},
   "outputs": [
    {
     "name": "stdout",
     "output_type": "stream",
     "text": [
      "[0, 0, 2, 'C']\n"
     ]
    }
   ],
   "source": [
    "#QUESTÃO2\n",
    "def converteBinarioEmHexadecimal(lista):\n",
    "    dicionarioHexadecimal = {10:\"A\", 11:\"B\", 12:\"C\", 13:\"D\", 14:\"E\", 15:\"F\"}\n",
    "    TempHexadecimal = []\n",
    "    hexadecimal = []\n",
    "    while len(lista) < 16:\n",
    "        lista.insert(0,0)\n",
    "    for i in range(0,16,4):\n",
    "        fatiamento = lista[i:i+4]\n",
    "        fatiamento.reverse()\n",
    "        for j in range(4):\n",
    "            calc = fatiamento[j]*2**j\n",
    "            TempHexadecimal.append(calc)\n",
    "        soma = sum(TempHexadecimal[i:i+4])\n",
    "        if(soma) >= 10:\n",
    "            hexadecimal.append(dicionarioHexadecimal[soma])\n",
    "        else:\n",
    "            hexadecimal.append(soma)\n",
    "    return hexadecimal\n",
    "listaBinario = [1,0,1,1,0,0]\n",
    "\n",
    "print(converteBinarioEmHexadecimal(listaBinario))"
   ]
  },
  {
   "cell_type": "code",
   "execution_count": null,
   "id": "21230a5c",
   "metadata": {},
   "outputs": [],
   "source": [
    "#QUESTÃO3\n",
    "\n",
    "def determinanteEhNulo(matriz):\n",
    "    for i in range(len(matriz)):\n",
    "        linhas = []\n",
    "        colunas = []\n",
    "        for j in range(len(matriz[0])):\n",
    "            linhas.append(matriz[i][j])\n",
    "            colunas.append(matriz[j][i])\n",
    "            cont = 0\n",
    "        for ind in range(len(linhas)):\n",
    "            if linhas[ind]==0:\n",
    "                cont+=1\n",
    "                if cont == len(colunas):\n",
    "                    return (True)\n",
    "\n",
    "            cont = 0\n",
    "        for ind in range(len(colunas)):\n",
    "            if colunas[ind]==0:\n",
    "                cont+=1\n",
    "        if cont == len(linhas):\n",
    "            return (True)\n",
    "    return (False)\n",
    "    \n",
    "\n",
    "linhas = int(input('Digite a quantidade de linhas da sua matriz: '))\n",
    "colunas = int(input('Digite a quantidade de colunas da sua matriz: '))\n",
    "matriz = []\n",
    "for i in range(linhas):\n",
    "    linha = []\n",
    "    for j in range(colunas):\n",
    "        linha.append(int(input('Digite o valor da matriz [' + str(i) + ',' + str(j) + ']: ')))\n",
    "    matriz.append(linha)\n",
    "    for i in range(len(matriz)):\n",
    "        print(matriz[i])\n",
    "print(determinanteEhNulo(matriz))"
   ]
  }
 ],
 "metadata": {
  "kernelspec": {
   "display_name": "Python 3 (ipykernel)",
   "language": "python",
   "name": "python3"
  },
  "language_info": {
   "codemirror_mode": {
    "name": "ipython",
    "version": 3
   },
   "file_extension": ".py",
   "mimetype": "text/x-python",
   "name": "python",
   "nbconvert_exporter": "python",
   "pygments_lexer": "ipython3",
   "version": "3.10.2"
  }
 },
 "nbformat": 4,
 "nbformat_minor": 5
}
